{
 "cells": [
  {
   "cell_type": "code",
   "execution_count": 1,
   "id": "1c7a6817",
   "metadata": {},
   "outputs": [
    {
     "name": "stderr",
     "output_type": "stream",
     "text": [
      "Black is not installed, parameters wont be formatted\n",
      "Input notebook does not contain a cell with tag 'parameters'\n"
     ]
    },
    {
     "data": {
      "application/vnd.jupyter.widget-view+json": {
       "model_id": "2937057246e74c0fae85b007e464bd9d",
       "version_major": 2,
       "version_minor": 0
      },
      "text/plain": [
       "Executing:   0%|          | 0/4 [00:00<?, ?cell/s]"
      ]
     },
     "metadata": {},
     "output_type": "display_data"
    },
    {
     "data": {
      "text/plain": [
       "{'cells': [{'id': '813de275',\n",
       "   'cell_type': 'code',\n",
       "   'metadata': {'tags': ['injected-parameters'],\n",
       "    'papermill': {'exception': False,\n",
       "     'start_time': '2022-12-29T13:12:28.827418',\n",
       "     'end_time': '2022-12-29T13:12:28.866733',\n",
       "     'duration': 0.039315,\n",
       "     'status': 'completed'},\n",
       "    'execution': {'iopub.status.busy': '2022-12-29T13:12:28.846197Z',\n",
       "     'iopub.execute_input': '2022-12-29T13:12:28.847013Z',\n",
       "     'iopub.status.idle': '2022-12-29T13:12:28.863804Z',\n",
       "     'shell.execute_reply': '2022-12-29T13:12:28.862962Z'}},\n",
       "   'execution_count': 1,\n",
       "   'source': '# Parameters\\nn = 10\\nm = 15\\n',\n",
       "   'outputs': []},\n",
       "  {'cell_type': 'code',\n",
       "   'execution_count': 2,\n",
       "   'id': '041b8f1f',\n",
       "   'metadata': {'tags': [],\n",
       "    'papermill': {'exception': False,\n",
       "     'start_time': '2022-12-29T13:12:28.874881',\n",
       "     'end_time': '2022-12-29T13:12:28.885919',\n",
       "     'duration': 0.011038,\n",
       "     'status': 'completed'},\n",
       "    'execution': {'iopub.status.busy': '2022-12-29T13:12:28.880202Z',\n",
       "     'iopub.execute_input': '2022-12-29T13:12:28.880477Z',\n",
       "     'iopub.status.idle': '2022-12-29T13:12:28.884108Z',\n",
       "     'shell.execute_reply': '2022-12-29T13:12:28.883628Z'}},\n",
       "   'outputs': [],\n",
       "   'source': 'def number_till_n(n):\\n    return [i for i in range(1, n+1)]\\n\\ndef number_till_m_reverse(m):\\n    return [i for i in range(m, 0, -1)]'},\n",
       "  {'cell_type': 'code',\n",
       "   'execution_count': 3,\n",
       "   'id': '69059840',\n",
       "   'metadata': {'tags': [],\n",
       "    'papermill': {'exception': False,\n",
       "     'start_time': '2022-12-29T13:12:28.889394',\n",
       "     'end_time': '2022-12-29T13:12:28.902666',\n",
       "     'duration': 0.013272,\n",
       "     'status': 'completed'},\n",
       "    'execution': {'iopub.status.busy': '2022-12-29T13:12:28.892934Z',\n",
       "     'iopub.execute_input': '2022-12-29T13:12:28.893128Z',\n",
       "     'iopub.status.idle': '2022-12-29T13:12:28.900935Z',\n",
       "     'shell.execute_reply': '2022-12-29T13:12:28.900585Z'}},\n",
       "   'outputs': [{'output_type': 'execute_result',\n",
       "     'metadata': {},\n",
       "     'data': {'text/plain': '[1, 2, 3, 4, 5, 6, 7, 8, 9, 10]'},\n",
       "     'execution_count': 3}],\n",
       "   'source': 'number_till_n(n)'},\n",
       "  {'cell_type': 'code',\n",
       "   'execution_count': 4,\n",
       "   'id': '6914affa',\n",
       "   'metadata': {'tags': [],\n",
       "    'papermill': {'exception': False,\n",
       "     'start_time': '2022-12-29T13:12:28.905602',\n",
       "     'end_time': '2022-12-29T13:12:28.912707',\n",
       "     'duration': 0.007105,\n",
       "     'status': 'completed'},\n",
       "    'execution': {'iopub.status.busy': '2022-12-29T13:12:28.908699Z',\n",
       "     'iopub.execute_input': '2022-12-29T13:12:28.908854Z',\n",
       "     'iopub.status.idle': '2022-12-29T13:12:28.911485Z',\n",
       "     'shell.execute_reply': '2022-12-29T13:12:28.911193Z'}},\n",
       "   'outputs': [{'output_type': 'execute_result',\n",
       "     'metadata': {},\n",
       "     'data': {'text/plain': '[15, 14, 13, 12, 11, 10, 9, 8, 7, 6, 5, 4, 3, 2, 1]'},\n",
       "     'execution_count': 4}],\n",
       "   'source': 'number_till_m_reverse(m)'}],\n",
       " 'metadata': {'kernelspec': {'display_name': 'Python 3 (ipykernel)',\n",
       "   'language': 'python',\n",
       "   'name': 'python3'},\n",
       "  'language_info': {'name': 'python',\n",
       "   'version': '3.9.7',\n",
       "   'mimetype': 'text/x-python',\n",
       "   'codemirror_mode': {'name': 'ipython', 'version': 3},\n",
       "   'pygments_lexer': 'ipython3',\n",
       "   'nbconvert_exporter': 'python',\n",
       "   'file_extension': '.py'},\n",
       "  'papermill': {'default_parameters': {},\n",
       "   'parameters': {'n': 10, 'm': 15},\n",
       "   'environment_variables': {},\n",
       "   'version': '2.4.0',\n",
       "   'input_path': 'main_notebook.ipynb',\n",
       "   'output_path': 'output_notebook.ipynb',\n",
       "   'start_time': '2022-12-29T13:12:28.051581',\n",
       "   'end_time': '2022-12-29T13:12:29.020899',\n",
       "   'duration': 0.969318,\n",
       "   'exception': None}},\n",
       " 'nbformat': 4,\n",
       " 'nbformat_minor': 5}"
      ]
     },
     "execution_count": 1,
     "metadata": {},
     "output_type": "execute_result"
    }
   ],
   "source": [
    "import papermill as pm\n",
    "\n",
    "pm.execute_notebook(\n",
    "   'main_notebook.ipynb',\n",
    "   'output_notebook.ipynb',\n",
    "   parameters=dict(n=10, m=15)\n",
    ")\n",
    "\n"
   ]
  },
  {
   "cell_type": "code",
   "execution_count": null,
   "id": "2fc10786",
   "metadata": {},
   "outputs": [],
   "source": []
  }
 ],
 "metadata": {
  "kernelspec": {
   "display_name": "Python 3 (ipykernel)",
   "language": "python",
   "name": "python3"
  },
  "language_info": {
   "codemirror_mode": {
    "name": "ipython",
    "version": 3
   },
   "file_extension": ".py",
   "mimetype": "text/x-python",
   "name": "python",
   "nbconvert_exporter": "python",
   "pygments_lexer": "ipython3",
   "version": "3.9.7"
  }
 },
 "nbformat": 4,
 "nbformat_minor": 5
}
