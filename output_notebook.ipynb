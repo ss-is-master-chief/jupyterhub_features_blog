{
 "cells": [
  {
   "cell_type": "code",
   "execution_count": 1,
   "id": "813de275",
   "metadata": {
    "execution": {
     "iopub.execute_input": "2022-12-29T13:12:28.847013Z",
     "iopub.status.busy": "2022-12-29T13:12:28.846197Z",
     "iopub.status.idle": "2022-12-29T13:12:28.863804Z",
     "shell.execute_reply": "2022-12-29T13:12:28.862962Z"
    },
    "papermill": {
     "duration": 0.039315,
     "end_time": "2022-12-29T13:12:28.866733",
     "exception": false,
     "start_time": "2022-12-29T13:12:28.827418",
     "status": "completed"
    },
    "tags": [
     "injected-parameters"
    ]
   },
   "outputs": [],
   "source": [
    "# Parameters\n",
    "n = 10\n",
    "m = 15\n"
   ]
  },
  {
   "cell_type": "code",
   "execution_count": 2,
   "id": "041b8f1f",
   "metadata": {
    "execution": {
     "iopub.execute_input": "2022-12-29T13:12:28.880477Z",
     "iopub.status.busy": "2022-12-29T13:12:28.880202Z",
     "iopub.status.idle": "2022-12-29T13:12:28.884108Z",
     "shell.execute_reply": "2022-12-29T13:12:28.883628Z"
    },
    "papermill": {
     "duration": 0.011038,
     "end_time": "2022-12-29T13:12:28.885919",
     "exception": false,
     "start_time": "2022-12-29T13:12:28.874881",
     "status": "completed"
    },
    "tags": []
   },
   "outputs": [],
   "source": [
    "def number_till_n(n):\n",
    "    return [i for i in range(1, n+1)]\n",
    "\n",
    "def number_till_m_reverse(m):\n",
    "    return [i for i in range(m, 0, -1)]"
   ]
  },
  {
   "cell_type": "code",
   "execution_count": 3,
   "id": "69059840",
   "metadata": {
    "execution": {
     "iopub.execute_input": "2022-12-29T13:12:28.893128Z",
     "iopub.status.busy": "2022-12-29T13:12:28.892934Z",
     "iopub.status.idle": "2022-12-29T13:12:28.900935Z",
     "shell.execute_reply": "2022-12-29T13:12:28.900585Z"
    },
    "papermill": {
     "duration": 0.013272,
     "end_time": "2022-12-29T13:12:28.902666",
     "exception": false,
     "start_time": "2022-12-29T13:12:28.889394",
     "status": "completed"
    },
    "tags": []
   },
   "outputs": [
    {
     "data": {
      "text/plain": [
       "[1, 2, 3, 4, 5, 6, 7, 8, 9, 10]"
      ]
     },
     "execution_count": 3,
     "metadata": {},
     "output_type": "execute_result"
    }
   ],
   "source": [
    "number_till_n(n)"
   ]
  },
  {
   "cell_type": "code",
   "execution_count": 4,
   "id": "6914affa",
   "metadata": {
    "execution": {
     "iopub.execute_input": "2022-12-29T13:12:28.908854Z",
     "iopub.status.busy": "2022-12-29T13:12:28.908699Z",
     "iopub.status.idle": "2022-12-29T13:12:28.911485Z",
     "shell.execute_reply": "2022-12-29T13:12:28.911193Z"
    },
    "papermill": {
     "duration": 0.007105,
     "end_time": "2022-12-29T13:12:28.912707",
     "exception": false,
     "start_time": "2022-12-29T13:12:28.905602",
     "status": "completed"
    },
    "tags": []
   },
   "outputs": [
    {
     "data": {
      "text/plain": [
       "[15, 14, 13, 12, 11, 10, 9, 8, 7, 6, 5, 4, 3, 2, 1]"
      ]
     },
     "execution_count": 4,
     "metadata": {},
     "output_type": "execute_result"
    }
   ],
   "source": [
    "number_till_m_reverse(m)"
   ]
  }
 ],
 "metadata": {
  "kernelspec": {
   "display_name": "Python 3 (ipykernel)",
   "language": "python",
   "name": "python3"
  },
  "language_info": {
   "codemirror_mode": {
    "name": "ipython",
    "version": 3
   },
   "file_extension": ".py",
   "mimetype": "text/x-python",
   "name": "python",
   "nbconvert_exporter": "python",
   "pygments_lexer": "ipython3",
   "version": "3.9.7"
  },
  "papermill": {
   "default_parameters": {},
   "duration": 0.969318,
   "end_time": "2022-12-29T13:12:29.020899",
   "environment_variables": {},
   "exception": null,
   "input_path": "main_notebook.ipynb",
   "output_path": "output_notebook.ipynb",
   "parameters": {
    "m": 15,
    "n": 10
   },
   "start_time": "2022-12-29T13:12:28.051581",
   "version": "2.4.0"
  }
 },
 "nbformat": 4,
 "nbformat_minor": 5
}