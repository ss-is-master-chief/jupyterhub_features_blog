{
 "cells": [
  {
   "cell_type": "code",
   "execution_count": null,
   "id": "041b8f1f",
   "metadata": {},
   "outputs": [],
   "source": [
    "def number_till_n(n):\n",
    "    return [i for i in range(1, n+1)]\n",
    "\n",
    "def number_till_m_reverse(m):\n",
    "    return [i for i in range(m, 0, -1)]"
   ]
  },
  {
   "cell_type": "code",
   "execution_count": null,
   "id": "69059840",
   "metadata": {},
   "outputs": [],
   "source": [
    "number_till_n(n)"
   ]
  },
  {
   "cell_type": "code",
   "execution_count": null,
   "id": "6914affa",
   "metadata": {},
   "outputs": [],
   "source": [
    "number_till_m_reverse(m)"
   ]
  }
 ],
 "metadata": {
  "kernelspec": {
   "display_name": "Python 3 (ipykernel)",
   "language": "python",
   "name": "python3"
  },
  "language_info": {
   "codemirror_mode": {
    "name": "ipython",
    "version": 3
   },
   "file_extension": ".py",
   "mimetype": "text/x-python",
   "name": "python",
   "nbconvert_exporter": "python",
   "pygments_lexer": "ipython3",
   "version": "3.9.7"
  }
 },
 "nbformat": 4,
 "nbformat_minor": 5
}
